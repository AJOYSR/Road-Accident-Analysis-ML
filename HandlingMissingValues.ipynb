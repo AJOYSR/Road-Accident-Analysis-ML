import pandas as pd

# Load your dataset
df = pd.read_csv("/content/sample_data/Full_Final.csv")

# Define a function to handle missing values
def handle_missing_values(column):
    if pd.api.types.is_numeric_dtype(column):
        # Replace ',' and '?' with NaN
        column.replace(',', pd.NA, inplace=True)
        column.replace('?', pd.NA, inplace=True)
        # Convert column to numeric
        column = pd.to_numeric(column, errors='coerce')
        # Calculate the mean and round to the nearest integer
        mean_value = round(column.mean())
        # Fill missing values with the rounded mean
        return column.fillna(mean_value)
    else:
        # For categorical columns, fill missing values with 'Unknown' and replace '?' with 'Unknown'
        column.replace('?', 'Unknown', inplace=True)
        return column.fillna('Unknown')

# Apply the function to each column
for column in df.columns:
    df[column] = handle_missing_values(df[column])

# Print the updated DataFrame
print(df.head())

# Optionally, save the updated dataset
df.to_csv("/content/sample_data/MissingUpdated.csv", index=False)
import pandas as pd

# Load your dataset
# Assuming your dataset is named 'accidents_data'
accidents_data = pd.read_csv("/content/sample_data/MappedData.csv")

# 1. Calculate Accident per Year and per Month
accidents_per_year = accidents_data.groupby(['Year', 'District']).size().reset_index(name='Accidents_Per_Year')
accidents_per_month = accidents_data.groupby(['Year', 'Month', 'District']).size().reset_index(name='Accidents_Per_Month')

# 2. Calculate Death per District
fatal_accidents_per_district = accidents_data[accidents_data['Accident_Severity'] == 'Fatal'].groupby('District').size().reset_index(name='Fatal_Accidents_Per_District')

# 3. Map the Results to a New DataFrame
new_data = pd.DataFrame()

# Map accidents per year
new_data['Year'] = accidents_per_year['Year']
new_data['District'] = accidents_per_year['District']
new_data['Accidents_Per_Year'] = accidents_per_year['Accidents_Per_Year']

# Map accidents per month
new_data = new_data.merge(accidents_per_month, on=['Year', 'District'])

# Map death per district
new_data = new_data.merge(fatal_accidents_per_district, on='District', how='left')
new_data['Fatal_Accidents_Per_District'].fillna(0, inplace=True)  # Fill NaN values with 0

# Export the new DataFrame to a new CSV file
new_data.to_csv("/content/sample_data/NewData.csv", index=False)
