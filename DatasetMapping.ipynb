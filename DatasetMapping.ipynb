import pandas as pd

def getDistrict(number):
    # Define the ISO to District mapping dictionary
    iso_to_district = {
        "5": "Bagerhat",
        "1": "Bandarban",
        "2": "Barguna",
        "6": "Barisal",
        "7": "Bhola",
        "3": "Bogra",
        "4": "Brahmanbaria",
        "9": "Chandpur",
        "10": "Chittagong",
        "12": "Chuadanga",
        "8": "Comilla",
        "11": "Cox's Bazar",
        "13": "Dhaka",
        "14": "Dinajpur",
        "15": "Faridpur",
        "16": "Feni",
        "19": "Gaibandha",
        "18": "Gazipur",
        "17": "Gopalganj",
        "20": "Habiganj",
        "24": "Jaipurhat",
        "21": "Jamalpur",
        "22": "Jessore",
        "25": "Jhalakati",
        "23": "Jhenaidah",
        "29": "Khagrachari",
        "27": "Khulna",
        "26": "Kishoreganj",
        "28": "Kurigram",
        "30": "Kushtia",
        "31": "Lakshmipur",
        "32": "Lalmonirhat",
        "36": "Madaripur",
        "37": "Magura",
        "33": "Manikganj",
        "39": "Meherpur",
        "38": "Moulvibazar",
        "35": "Munshiganj",
        "34": "Mymensingh",
        "48": "Naogaon",
        "43": "Narail",
        "40": "Narayanganj",
        "42": "Narsingdi",
        "44": "Natore",
        "45": "Nawabganj",
        "41": "Netrakona",
        "46": "Nilphamari",
        "47": "Noakhali",
        "49": "Pabna",
        "52": "Panchagarh",
        "56": "Parbattya Chattagram",
        "51": "Patuakhali",
        "50": "Pirojpur",
        "53": "Rajbari",
        "54": "Rajshahi",
        "55": "Rangpur",
        "58": "Satkhira",
        "62": "Shariatpur",
        "57": "Sherpur",
        "59": "Sirajganj",
        "61": "Sunamganj",
        "60": "Sylhet",
        "63": "Tangail",
        "64": "Thakurgaon"
    }
    return iso_to_district.get(str(number), "?")

# Define other mapping functions similarly...
def map_columns(csv_file):
    # Read the CSV file into a DataFrame
    df = pd.read_csv(csv_file)

    # Map each column
    df['District'] = df['District'].apply(getDistrict)

    # Write the DataFrame back to CSV
    df.to_csv(csv_file, index=False)

# Example usage:
map_columns("/content/sample_data/Full_Final.csv")
