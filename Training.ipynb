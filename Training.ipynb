import pandas as pd
from sklearn.model_selection import train_test_split, GridSearchCV, cross_val_score
from sklearn.ensemble import RandomForestRegressor, GradientBoostingRegressor
from sklearn.neural_network import MLPRegressor
from sklearn.metrics import mean_absolute_error, mean_squared_error, r2_score
from sklearn.preprocessing import StandardScaler
import matplotlib.pyplot as plt

# Load your dataset
data = pd.read_csv("/content/sample_data/MappedData.csv")

# Data Preprocessing
agg_data = data.groupby(['District', 'Year']).size().reset_index(name='Accidents_Per_Year')

# Split features and target variable
X = agg_data.drop(['Accidents_Per_Year'], axis=1)
y = agg_data['Accidents_Per_Year']

# Encode categorical variables
X_encoded = pd.get_dummies(X)

# Split data into training and testing sets
X_train, X_test, y_train, y_test = train_test_split(X_encoded, y, test_size=0.2, random_state=42)

# Standardize the features
scaler = StandardScaler()
X_train_scaled = scaler.fit_transform(X_train)
X_test_scaled = scaler.transform(X_test)

# Function to train and evaluate a model
def train_evaluate_model(model, X_train, X_test, y_train, y_test):
    model.fit(X_train, y_train)
    predictions = model.predict(X_test)
    mae = mean_absolute_error(y_test, predictions)
    mse = mean_squared_error(y_test, predictions)
    r2 = r2_score(y_test, predictions)
    return mae, mse, r2

# Random Forest Hyperparameter Tuning
param_grid = {
    'n_estimators': [100, 200, 300],
    'max_depth': [None, 10, 20],
    'min_samples_split': [2, 5, 10],
    'min_samples_leaf': [1, 2, 4]
}
rf_model = RandomForestRegressor(random_state=42)
grid_search = GridSearchCV(estimator=rf_model, param_grid=param_grid, cv=5, scoring='r2', n_jobs=-1)
grid_search.fit(X_train_scaled, y_train)
best_params = grid_search.best_params_
best_rf_model = RandomForestRegressor(**best_params, random_state=42)

# Train and evaluate Random Forest model
rf_mae, rf_mse, rf_r2 = train_evaluate_model(best_rf_model, X_train_scaled, X_test_scaled, y_train, y_test)
print("Random Forest after Hyperparameter Tuning:")
print("Mean Absolute Error:", rf_mae)
print("Mean Squared Error:", rf_mse)
print("R^2 Score:", rf_r2)

# Gradient Boosting
gb_model = GradientBoostingRegressor()
gb_mae, gb_mse, gb_r2 = train_evaluate_model(gb_model, X_train_scaled, X_test_scaled, y_train, y_test)
print("\nGradient Boosting:")
print("Mean Absolute Error:", gb_mae)
print("Mean Squared Error:", gb_mse)
print("R^2 Score:", gb_r2)

# Artificial Neural Network
ann_model = MLPRegressor(random_state=42)
ann_mae, ann_mse, ann_r2 = train_evaluate_model(ann_model, X_train_scaled, X_test_scaled, y_train, y_test)
print("\nArtificial Neural Network:")
print("Mean Absolute Error:", ann_mae)
print("Mean Squared Error:", ann_mse)
print("R^2 Score:", ann_r2)

# Cross-validation for Gradient Boosting
gb_cv_scores = cross_val_score(gb_model, X_train_scaled, y_train, cv=5, scoring='r2')
print("\nCross-Validation R^2 Score for Gradient Boosting:", gb_cv_scores.mean())

# Cross-validation for Random Forest
rf_cv_scores = cross_val_score(best_rf_model, X_train_scaled, y_train, cv=5, scoring='r2')
print("\nCross-Validation R^2 Score for Random Forest:", rf_cv_scores.mean())

# Cross-validation for Artificial Neural Network
ann_cv_scores = cross_val_score(ann_model, X_train_scaled, y_train, cv=5, scoring='r2')
print("\nCross-Validation R^2 Score for Artificial Neural Network:", ann_cv_scores.mean())

# Plotting the results
models = ['Random Forest', 'Gradient Boosting', 'Artificial Neural Network']
cv_scores = [rf_cv_scores.mean(), gb_cv_scores.mean(), ann_cv_scores.mean()]

plt.figure(figsize=(10, 6))
plt.bar(models, cv_scores, color=['blue', 'orange', 'green'])
plt.title('Cross-Validation R^2 Score Comparison')
plt.xlabel('Models')
plt.ylabel('R^2 Score')
plt.ylim(0, 1)
plt.show()

plt.figure(figsize=(10, 6))

